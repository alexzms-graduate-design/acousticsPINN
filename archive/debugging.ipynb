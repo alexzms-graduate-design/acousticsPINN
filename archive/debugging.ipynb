{
 "cells": [
  {
   "cell_type": "code",
   "execution_count": null,
   "metadata": {},
   "outputs": [],
   "source": [
    "# main.py\n",
    "import torch\n",
    "import torch.optim as optim\n",
    "import numpy as np\n",
    "from fem import CoupledFEMSolver\n",
    "\n",
    "device = torch.device('cuda' if torch.cuda.is_available() else 'cpu')\n",
    "print(f\"Running on device: {device}\")\n",
    "\n",
    "# -------------------------------\n",
    "# 设定基本参数\n",
    "# -------------------------------\n",
    "frequency = 1000.0       # 噪音源频率 (Hz)\n",
    "penalty = 1e8            # 耦合惩罚参数\n",
    "mesh_file = \"y_pipe.msh\"   # 由 geometry_gmsh.py 生成的网格文件\n",
    "\n",
    "# -------------------------------\n",
    "# 初始化 FEM 求解器\n",
    "# -------------------------------\n",
    "fem_solver = CoupledFEMSolver(mesh_file, frequency=frequency, penalty=penalty).to(device)\n",
    "\n",
    "# -------------------------------\n",
    "# 定义材料参数（作为待优化变量）\n",
    "# 初始值：E = 3e9 Pa, nu = 0.35, rho_s = 1400 kg/m³\n",
    "E_init = 3.0e9\n",
    "nu_init = 0.35\n",
    "rho_init = 1400.0\n",
    "\n",
    "E_param = torch.nn.Parameter(torch.tensor(E_init, dtype=torch.float32, device=device))\n",
    "nu_param = torch.nn.Parameter(torch.tensor(nu_init, dtype=torch.float32, device=device))\n",
    "rho_param = torch.nn.Parameter(torch.tensor(rho_init, dtype=torch.float32, device=device))\n",
    "\n",
    "optimizer = optim.Adam([E_param, nu_param, rho_param], lr=5e-2)\n",
    "\n",
    "# -------------------------------\n",
    "# 设定目标：远端麦克风测量信号（例如 0.5 Pa）\n",
    "target_pressure = torch.tensor(0.5, dtype=torch.float32, device=device)"
   ]
  },
  {
   "cell_type": "code",
   "execution_count": null,
   "metadata": {},
   "outputs": [],
   "source": [
    "fem_solver.solve(E_param, nu_param, rho_param)"
   ]
  },
  {
   "cell_type": "code",
   "execution_count": null,
   "metadata": {},
   "outputs": [],
   "source": [
    "# -------------------------------\n",
    "# 优化循环：根据远端麦克风处预测值与实测值的误差优化材料参数\n",
    "# -------------------------------\n",
    "print(\"[info] 开始优化\")\n",
    "n_epochs = 100\n",
    "for epoch in range(n_epochs):\n",
    "    optimizer.zero_grad()\n",
    "    pred_pressure, _ = fem_solver.solve(E_param, nu_param, rho_param)\n",
    "    loss = (pred_pressure - target_pressure)**2\n",
    "    loss.backward()\n",
    "    optimizer.step()\n",
    "    # 保证泊松比在 (0, 0.5) 内\n",
    "    with torch.no_grad():\n",
    "        nu_param.clamp_(0.0, 0.499)\n",
    "    if epoch % 1 == 0:\n",
    "        print(f\"Epoch {epoch:03d}: Loss = {loss.item():.6e}, Predicted Far Pressure = {pred_pressure.item():.6e}\")\n",
    "        print(f\"   E = {E_param.item():.3e} Pa, nu = {nu_param.item():.4f}, rho_s = {rho_param.item():.2f} kg/m³\")\n",
    "\n",
    "print(\"优化结束。最终参数：\")\n",
    "print(f\"  E = {E_param.item():.3e} Pa\")\n",
    "print(f\"  nu = {nu_param.item():.4f}\")\n",
    "print(f\"  rho_s = {rho_param.item():.2f} kg/m³\")\n"
   ]
  }
 ],
 "metadata": {
  "kernelspec": {
   "display_name": "fluid_reconstruct",
   "language": "python",
   "name": "python3"
  },
  "language_info": {
   "name": "python",
   "version": "3.10.14"
  }
 },
 "nbformat": 4,
 "nbformat_minor": 2
}
